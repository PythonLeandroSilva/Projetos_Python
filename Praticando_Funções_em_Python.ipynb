{
  "nbformat": 4,
  "nbformat_minor": 0,
  "metadata": {
    "colab": {
      "provenance": [],
      "mount_file_id": "13pz6OxDgSX7PqqSfWcLg6Xcvi7Wh6znP",
      "authorship_tag": "ABX9TyNTK6a4LZj8gry2Xr5a+lzT",
      "include_colab_link": true
    },
    "kernelspec": {
      "name": "python3",
      "display_name": "Python 3"
    },
    "language_info": {
      "name": "python"
    }
  },
  "cells": [
    {
      "cell_type": "markdown",
      "metadata": {
        "id": "view-in-github",
        "colab_type": "text"
      },
      "source": [
        "<a href=\"https://colab.research.google.com/github/PythonLeandroSilva/Projetos_Python/blob/main/Praticando_Fun%C3%A7%C3%B5es_em_Python.ipynb\" target=\"_parent\"><img src=\"https://colab.research.google.com/assets/colab-badge.svg\" alt=\"Open In Colab\"/></a>"
      ]
    },
    {
      "cell_type": "code",
      "source": [
        "from google.colab import files\n",
        "from IPython.display import Image\n",
        "\n",
        "# Função para a porta lógica AND\n",
        "def logical_and(input1, input2):\n",
        "    return input1 and input2\n",
        "\n",
        "# Função para a porta lógica OR\n",
        "def logical_or(input1, input2):\n",
        "    return input1 or input2\n",
        "\n",
        "# Função para a porta lógica XOR\n",
        "def logical_xor(input1, input2):\n",
        "    return (input1 or input2) and not (input1 and input2)\n",
        "\n",
        "# Função para a porta lógica NOT\n",
        "def logical_not(input1):\n",
        "    return not input1\n",
        "\n",
        "# Função principal do jogo\n",
        "def jogo_portas_logicas():\n",
        "    print(\"Bem-vindo ao Jogo de Portas Lógicas!\")\n",
        "    print(\"Escolha uma porta lógica para começar:\")\n",
        "    print(\"1. AND\")\n",
        "    print(\"2. OR\")\n",
        "    print(\"3. XOR\")\n",
        "    print(\"4. NOT\")\n",
        "    print('Vamos ver se a lampada acende ou se ficará apagada!')\n",
        "    escolha = int(input(\"Digite o número da porta lógica: \"))\n",
        "\n",
        "    if escolha == 1:\n",
        "        input1 = int(input(\"Digite o primeiro Bit (0 ou 1): \"))\n",
        "        input2 = int(input(\"Digite o segundo Bit (0 ou 1): \"))\n",
        "        resultado = logical_and(input1, input2)\n",
        "    elif escolha == 2:\n",
        "        input1 = int(input(\"Digite o primeiro Bit (0 ou 1): \"))\n",
        "        input2 = int(input(\"Digite o segundo Bit (0 ou 1): \"))\n",
        "        resultado = logical_or(input1, input2)\n",
        "    elif escolha == 3:\n",
        "        input1 = int(input(\"Digite o primeiro Bit (0 ou 1): \"))\n",
        "        input2 = int(input(\"Digite o segundo Bit (0 ou 1): \"))\n",
        "        resultado = logical_xor(input1, input2)\n",
        "    elif escolha == 4:\n",
        "        input1 = int(input(\"Digite o Bit (0 ou 1) para a porta NOT: \"))\n",
        "        resultado = logical_not(input1)\n",
        "    else:\n",
        "        print(\"Escolha inválida. Por favor, escolha um número de 1 a 4.\")\n",
        "\n",
        "    if resultado:\n",
        "        print()\n",
        "        display(Image(\"/content/drive/MyDrive/dados/imagens/acesa.PNG\"))  # Exibir imagem da lâmpada acesa\n",
        "        print('Acende!')\n",
        "    else:\n",
        "        print()\n",
        "        display(Image(\"/content/drive/MyDrive/dados/imagens/apagada.PNG\"))  # Exibir imagem da lâmpada apagada\n",
        "        print('Apaga')\n",
        "\n",
        "# Executar o jogo\n",
        "jogo_portas_logicas()\n",
        "\n",
        "\n"
      ],
      "metadata": {
        "colab": {
          "base_uri": "https://localhost:8080/",
          "height": 335
        },
        "id": "aIf2Q7-eNmRp",
        "outputId": "45de3b4f-8cc5-4106-8acb-4dc2ca0d0b30"
      },
      "execution_count": 15,
      "outputs": [
        {
          "output_type": "stream",
          "name": "stdout",
          "text": [
            "Bem-vindo ao Jogo de Portas Lógicas!\n",
            "Escolha uma porta lógica para começar:\n",
            "1. AND\n",
            "2. OR\n",
            "3. XOR\n",
            "4. NOT\n",
            "Vamos ver se a lampada acende ou se ficará apagada!\n",
            "Digite o número da porta lógica: 4\n",
            "Digite o Bit (0 ou 1) para a porta NOT: 0\n",
            "\n"
          ]
        },
        {
          "output_type": "display_data",
          "data": {
            "image/png": "[encoded data removed]",
            "text/plain": [
              "<IPython.core.display.Image object>"
            ]
          },
          "metadata": {}
        },
        {
          "output_type": "stream",
          "name": "stdout",
          "text": [
            "Acende!\n"
          ]
        }
      ]
    },
    {
      "cell_type": "code",
      "source": [
        "def voto(ano):# a variável ano assume o valor da variável nasc, ou seja, ano = nasc\n",
        "  from datetime import date\n",
        "  ano_atual = date.today().year\n",
        "  idade = ano_atual - ano\n",
        "  if idade < 16:\n",
        "    return (f'com {idade} anos: NÃO VOTA')\n",
        "  elif idade >= 16 and idade < 18:\n",
        "    return \"Voto facultativo\"\n",
        "  elif idade >= 18 and idade <= 70:\n",
        "    return (f'Com {idade} anos: VOTO OBRIGATÓRIO')\n",
        "  else:\n",
        "    return (f'Com {idade} anos: VOTO É FACULTATIVO')\n",
        "\n",
        "nasc = int(input('Em que ano você nasceu ? '))\n",
        "\n",
        "print(voto(nasc))\n",
        "\n",
        "\n",
        "\n",
        "\n",
        "\n",
        "\n",
        "\n",
        "\n"
      ],
      "metadata": {
        "colab": {
          "base_uri": "https://localhost:8080/"
        },
        "id": "dFbiAQCQptEa",
        "outputId": "92aa9b26-3575-40ad-c0f9-8719719e7326"
      },
      "execution_count": null,
      "outputs": [
        {
          "output_type": "stream",
          "name": "stdout",
          "text": [
            "Em que ano você nasceu ? 2001\n",
            "Com 22 anos: VOTO OBRIGATÓRIO\n"
          ]
        }
      ]
    },
    {
      "cell_type": "code",
      "source": [
        "import sys\n",
        "\n",
        "# Adicione o diretório ao sys.path\n",
        "sys.path.insert(0, '/content/drive/MyDrive/dados/arquivos/')#importando modulos\n",
        "\n",
        "# Agora você pode importar o módulo uteis\n",
        "import uteis\n",
        "\n",
        "# Solicite um valor ao usuário\n",
        "num = int(input('Digite um valor: '))\n",
        "\n",
        "# Use funções do módulo uteis\n",
        "fat = uteis.fatorial(num)\n",
        "print(f'O fatorial de {num} é {fat}')\n",
        "print(f'O dobro de {num} é {uteis.dobro(num)}')\n",
        "print(f'O triplo de {num} é {uteis.triplo(num)}')\n"
      ],
      "metadata": {
        "colab": {
          "base_uri": "https://localhost:8080/"
        },
        "id": "qiPfFJrDhZj9",
        "outputId": "97192890-eb36-4f5e-f98f-a7cda1d2a20f"
      },
      "execution_count": null,
      "outputs": [
        {
          "output_type": "stream",
          "name": "stdout",
          "text": [
            "Digite um valor: 5\n",
            "O fatorial de 5 é 120\n",
            "O dobro de 5 é 10\n",
            "O triplo de 5 é 15\n"
          ]
        }
      ]
    },
    {
      "cell_type": "code",
      "source": [
        "import sys\n",
        "sys.path.insert(0, '/content/drive/MyDrive/dados/modulos_python/moeda.py')\n",
        "import moeda\n",
        "p = float(input('Digite o preço: R$ '))\n",
        "print(f' A metade de R$ {p} é R$ {moeda.metade(p)} ')\n",
        "print(f' O dobro de R$ {p} é R$ {moeda.dobro(p)}')\n",
        "print(f' Aumentando 10%, temos R$ {moeda.aumentando(p)} ')\n",
        "print(f' Reduzindo 13%, temos R$ {moeda.diminuir(p)} ')\n"
      ],
      "metadata": {
        "colab": {
          "base_uri": "https://localhost:8080/"
        },
        "id": "JQ_8U7aJDZ6L",
        "outputId": "77f0d9de-5558-4061-b987-28b13c3273d9"
      },
      "execution_count": null,
      "outputs": [
        {
          "output_type": "stream",
          "name": "stdout",
          "text": [
            "Digite o preço: R$ 1000\n",
            " A metade de \tR$ 1000.0 é R$ 500.0 \n",
            " O dobro de \tR$ 1000.0 é R$ 2000.0\n",
            " Aumentando 10%, \ttemos R$ 1100.0 \n",
            " Reduzindo 13%, \ttemos R$ 870.0 \n"
          ]
        }
      ]
    }
  ]
}