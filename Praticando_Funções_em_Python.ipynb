{
  "nbformat": 4,
  "nbformat_minor": 0,
  "metadata": {
    "colab": {
      "provenance": [],
      "mount_file_id": "13pz6OxDgSX7PqqSfWcLg6Xcvi7Wh6znP",
      "authorship_tag": "ABX9TyOatZVRjbH067LrB2+dUt5M",
      "include_colab_link": true
    },
    "kernelspec": {
      "name": "python3",
      "display_name": "Python 3"
    },
    "language_info": {
      "name": "python"
    }
  },
  "cells": [
    {
      "cell_type": "markdown",
      "metadata": {
        "id": "view-in-github",
        "colab_type": "text"
      },
      "source": [
        "<a href=\"https://colab.research.google.com/github/PythonLeandroSilva/Projetos_Python/blob/main/Praticando_Fun%C3%A7%C3%B5es_em_Python.ipynb\" target=\"_parent\"><img src=\"https://colab.research.google.com/assets/colab-badge.svg\" alt=\"Open In Colab\"/></a>"
      ]
    },
    {
      "cell_type": "code",
      "source": [
        "import random\n",
        "import time\n",
        "numeros_sorteados = []\n",
        "def sortear(*sortear):\n",
        "    print('Sorteando 5 valores da lista:', end=' ')\n",
        "    for v in range(1,6):\n",
        "        time.sleep(0.5)\n",
        "        escolhendo_5_valores = random.choice(sortear)\n",
        "        numeros_sorteados.append(escolhendo_5_valores)\n",
        "        print(escolhendo_5_valores, end=' ')\n",
        "    print('PRONTO!')\n",
        "\n",
        "def somar(*somar):\n",
        "  variavel_contadora = 0\n",
        "  for i in somar:\n",
        "    if i%2 == 0:\n",
        "      variavel_contadora = variavel_contadora + i\n",
        "  print(f'\\nSomando os valores pares de {numeros_sorteados}, temos {variavel_contadora}')\n",
        "\n",
        "\n",
        "\n",
        "valores_para_sortear = (0,1,2,3,4,5,6,7,8,9)\n",
        "valores_somar = numeros_sorteados\n",
        "sortear(*valores_para_sortear)\n",
        "somar(*valores_somar)\n",
        "\n"
      ],
      "metadata": {
        "colab": {
          "base_uri": "https://localhost:8080/"
        },
        "id": "GAgXKQkaCeCn",
        "outputId": "9eee335a-f15d-42f5-ef13-f281486a9d2d"
      },
      "execution_count": 113,
      "outputs": [
        {
          "output_type": "stream",
          "name": "stdout",
          "text": [
            "Sorteando 5 valores da lista: 7 7 1 8 2 PRONTO!\n",
            "\n",
            "Somando os valores pares de [7, 7, 1, 8, 2], temos 10\n"
          ]
        }
      ]
    }
  ]
}