{
  "nbformat": 4,
  "nbformat_minor": 0,
  "metadata": {
    "colab": {
      "provenance": [],
      "mount_file_id": "13pz6OxDgSX7PqqSfWcLg6Xcvi7Wh6znP",
      "authorship_tag": "ABX9TyOlYIlqbOKBXRRRL0PXhxM+",
      "include_colab_link": true
    },
    "kernelspec": {
      "name": "python3",
      "display_name": "Python 3"
    },
    "language_info": {
      "name": "python"
    }
  },
  "cells": [
    {
      "cell_type": "markdown",
      "metadata": {
        "id": "view-in-github",
        "colab_type": "text"
      },
      "source": [
        "<a href=\"https://colab.research.google.com/github/PythonLeandroSilva/Projetos_Python/blob/main/Praticando_Fun%C3%A7%C3%B5es_em_Python.ipynb\" target=\"_parent\"><img src=\"https://colab.research.google.com/assets/colab-badge.svg\" alt=\"Open In Colab\"/></a>"
      ]
    },
    {
      "cell_type": "code",
      "source": [
        "def área(l,c):\n",
        "  print('Controle de Terreno')\n",
        "  print('='*30)\n",
        "  print(f'A área de um terreno de {l} x {c} é de {l*c}m².')\n",
        "\n",
        "\n",
        "l = float(input('LARGURA (m): '))\n",
        "c = float(input('COMPRIMENTO (m): '))\n",
        "área(l,c)\n"
      ],
      "metadata": {
        "colab": {
          "base_uri": "https://localhost:8080/"
        },
        "id": "dFbcq6k40Cop",
        "outputId": "16118a0e-2b03-4661-d5a4-a0179eeb1b06"
      },
      "execution_count": null,
      "outputs": [
        {
          "output_type": "stream",
          "name": "stdout",
          "text": [
            "LARGURA (m): 10\n",
            "COMPRIMENTO (m): 25.5\n",
            "Controle de Terreno\n",
            "==============================\n",
            "A área de um terreno de 10.0 x 25.5 é de 255.0m².\n"
          ]
        }
      ]
    },
    {
      "cell_type": "code",
      "source": [
        "import time\n",
        "def contador(*num):\n",
        "    print('-='*30)\n",
        "    print('Analisando os valores passados ...')\n",
        "\n",
        "    for valores in num:\n",
        "        time.sleep(0.5)\n",
        "        print(valores, end=' ')\n",
        "    print(f'Foram informados {len(num)} valores ao todo.')\n",
        "    print(f'O maior valor informado foi {max(num)}')\n",
        "\n",
        "    print()\n",
        "\n",
        "lista1 = [1, 25, 44, 21, 88, 45, 25, 78]\n",
        "lista2 = [10, 25, 24, 100, 25, 45, 96, 25]\n",
        "lista3 = [78, 58, 45, 85, 89, 24, 56, 48, 85]\n",
        "lista4 = [52, 36, 63, 45, 85, 45, 36, 98, 25, 45]\n",
        "lista5 = [45, 695, 156, 248, 123, 258, 456, 258]\n",
        "lista6 = [0]\n",
        "\n",
        "contador(*lista1)\n",
        "contador(*lista2)\n",
        "contador(*lista3)\n",
        "contador(*lista4)\n",
        "contador(*lista5)\n",
        "contador(*lista6)\n",
        "\n"
      ],
      "metadata": {
        "colab": {
          "base_uri": "https://localhost:8080/"
        },
        "id": "jj_JB8CUeqF-",
        "outputId": "f86a9e76-7c1a-4187-a1e1-bd35eb5167f0"
      },
      "execution_count": 67,
      "outputs": [
        {
          "output_type": "stream",
          "name": "stdout",
          "text": [
            "-=-=-=-=-=-=-=-=-=-=-=-=-=-=-=-=-=-=-=-=-=-=-=-=-=-=-=-=-=-=\n",
            "Analisando os valores passados ...\n",
            "1 25 44 21 88 45 25 78 Foram informados 8 valores ao todo.\n",
            "O maior valor informado foi 88\n",
            "\n",
            "-=-=-=-=-=-=-=-=-=-=-=-=-=-=-=-=-=-=-=-=-=-=-=-=-=-=-=-=-=-=\n",
            "Analisando os valores passados ...\n",
            "10 25 24 100 25 45 96 25 Foram informados 8 valores ao todo.\n",
            "O maior valor informado foi 100\n",
            "\n",
            "-=-=-=-=-=-=-=-=-=-=-=-=-=-=-=-=-=-=-=-=-=-=-=-=-=-=-=-=-=-=\n",
            "Analisando os valores passados ...\n",
            "78 58 45 85 89 24 56 48 85 Foram informados 9 valores ao todo.\n",
            "O maior valor informado foi 89\n",
            "\n",
            "-=-=-=-=-=-=-=-=-=-=-=-=-=-=-=-=-=-=-=-=-=-=-=-=-=-=-=-=-=-=\n",
            "Analisando os valores passados ...\n",
            "52 36 63 45 85 45 36 98 25 45 Foram informados 10 valores ao todo.\n",
            "O maior valor informado foi 98\n",
            "\n",
            "-=-=-=-=-=-=-=-=-=-=-=-=-=-=-=-=-=-=-=-=-=-=-=-=-=-=-=-=-=-=\n",
            "Analisando os valores passados ...\n",
            "45 695 156 248 123 258 456 258 Foram informados 8 valores ao todo.\n",
            "O maior valor informado foi 695\n",
            "\n",
            "-=-=-=-=-=-=-=-=-=-=-=-=-=-=-=-=-=-=-=-=-=-=-=-=-=-=-=-=-=-=\n",
            "Analisando os valores passados ...\n",
            "0 Foram informados 1 valores ao todo.\n",
            "O maior valor informado foi 0\n",
            "\n"
          ]
        }
      ]
    }
  ]
}