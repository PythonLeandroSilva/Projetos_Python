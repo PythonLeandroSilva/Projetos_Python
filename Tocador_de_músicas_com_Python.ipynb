{
  "nbformat": 4,
  "nbformat_minor": 0,
  "metadata": {
    "colab": {
      "provenance": [],
      "authorship_tag": "ABX9TyOIXDzS6UY9OIzv+Aa4jjns",
      "include_colab_link": true
    },
    "kernelspec": {
      "name": "python3",
      "display_name": "Python 3"
    },
    "language_info": {
      "name": "python"
    }
  },
  "cells": [
    {
      "cell_type": "markdown",
      "metadata": {
        "id": "view-in-github",
        "colab_type": "text"
      },
      "source": [
        "<a href=\"https://colab.research.google.com/github/PythonLeandroSilva/Projetos_Python/blob/main/Tocador_de_m%C3%BAsicas_com_Python.ipynb\" target=\"_parent\"><img src=\"https://colab.research.google.com/assets/colab-badge.svg\" alt=\"Open In Colab\"/></a>"
      ]
    },
    {
      "cell_type": "code",
      "execution_count": 1,
      "metadata": {
        "colab": {
          "base_uri": "https://localhost:8080/"
        },
        "id": "XcXu_FB5cvZe",
        "outputId": "c4821c7e-a280-4d16-e289-9f110992abfa"
      },
      "outputs": [
        {
          "output_type": "stream",
          "name": "stdout",
          "text": [
            "po\n"
          ]
        }
      ],
      "source": [
        "from IPython.display import Audio, display\n",
        "from pydub import AudioSegment\n",
        "import time\n",
        "#DEVE TAMBÉM INSTALAR O 'pydub' com o seguinte comando no Google Colab sem as aspas\n",
        "#' !pip install pydub '\n",
        "\n",
        "# Lista de nomes de variáveis para os arquivos de áudio\n",
        "lista_de_musicas = [\n",
        "    'In The End',\n",
        "    'Lying From Yo',\n",
        "    'Numb'\n",
        "]\n",
        "\n",
        "# Dicionário de correspondência entre nomes de variáveis e caminhos de arquivo\n",
        "caminhos_arquivos = {\n",
        "    'In The End': '/content/drive/MyDrive/dados/In The End.mp3',\n",
        "    'Lying From Yo': '/content/drive/MyDrive/dados/Lying From You.mp3',\n",
        "    'Numb': '/content/drive/MyDrive/dados/Numb.mp3'\n",
        "}\n",
        "\n",
        "# Loop for para reproduzir cada áudio\n",
        "for musica in lista_de_musicas:\n",
        "    caminho_arquivo_mp3 = caminhos_arquivos[musica]\n",
        "    print(f'Tocando {musica}')\n",
        "\n",
        "    # Carrega o áudio com pydub para obter a duração\n",
        "    audio = AudioSegment.from_file(caminho_arquivo_mp3)\n",
        "\n",
        "    # Converte a duração para segundos\n",
        "    duracao = len(audio) / 1000.0\n",
        "\n",
        "    display(Audio(caminho_arquivo_mp3, autoplay=True))\n",
        "\n",
        "    time.sleep(duracao)  # Espera até o final da música atual\n",
        "\n",
        "\n",
        "print('Acabou!')"
      ]
    }
  ]
}