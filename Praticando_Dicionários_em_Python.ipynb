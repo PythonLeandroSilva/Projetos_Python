{
  "nbformat": 4,
  "nbformat_minor": 0,
  "metadata": {
    "colab": {
      "provenance": [],
      "mount_file_id": "13pz6OxDgSX7PqqSfWcLg6Xcvi7Wh6znP",
      "authorship_tag": "ABX9TyN84I+UNjnqBXcnKyHCL4tN",
      "include_colab_link": true
    },
    "kernelspec": {
      "name": "python3",
      "display_name": "Python 3"
    },
    "language_info": {
      "name": "python"
    }
  },
  "cells": [
    {
      "cell_type": "markdown",
      "metadata": {
        "id": "view-in-github",
        "colab_type": "text"
      },
      "source": [
        "<a href=\"https://colab.research.google.com/github/PythonLeandroSilva/Projetos_Python/blob/main/Praticando_Dicion%C3%A1rios_em_Python.ipynb\" target=\"_parent\"><img src=\"https://colab.research.google.com/assets/colab-badge.svg\" alt=\"Open In Colab\"/></a>"
      ]
    },
    {
      "cell_type": "code",
      "source": [
        "'''  PRATICANDO DICIONÁRIOS EM PYTHON   '''\n",
        "\n",
        "#Faça um programa que leia nome e média de um aluno, guardando também a situação em um dicionário.\n",
        "#No final, mostre o conteúdo da estrutura na tela.\n",
        "\n",
        "aluno = dict()\n",
        "aluno['Nome'] = str(input('Digite o nome do aluno : '))\n",
        "aluno['Média'] = float(input(' Digite a Média do aluno : '))\n",
        "if aluno['Média'] >= 6.0:\n",
        "  aluno['Situação'] = 'Aprovado'\n",
        "elif aluno['Média'] >= 3 and aluno['Média'] <= 5.9:\n",
        "  aluno['Stuação'] = 'Recuperação'\n",
        "else:\n",
        "  aluno['Situação'] = 'Reprovado'\n",
        "for k, v in aluno.items():\n",
        "  print(f'- {k} é igual a {v}')\n",
        "\n",
        "print('='*30)\n",
        "print(aluno)"
      ],
      "metadata": {
        "colab": {
          "base_uri": "https://localhost:8080/"
        },
        "id": "6l1002enmiy9",
        "outputId": "a76db6c7-6691-487a-d9dc-a30574c74845"
      },
      "execution_count": null,
      "outputs": [
        {
          "output_type": "stream",
          "name": "stdout",
          "text": [
            "Digite o nome do aluno : maria\n",
            " Digite a Média do aluno : 5.5\n",
            "- Nome é igual a maria\n",
            "- Média é igual a 5.5\n",
            "- Stuação é igual a Recuperação\n",
            "==============================\n",
            "{'Nome': 'maria', 'Média': 5.5, 'Stuação': 'Recuperação'}\n"
          ]
        }
      ]
    },
    {
      "cell_type": "code",
      "source": [
        "#Exercicio 93 - Crie um programa onde 4 jogadores joguem um dado e tenham resultados aleatórios.\n",
        "#Guarde esses resultados em um dicionário em Python.\n",
        "#No final, coloque esse dicionário em ordem, sabendo que o vencedor tirou o maior número no dado.\n",
        "import random\n",
        "import time\n",
        "from operator import itemgetter\n",
        "jogadores = {'Jogador1': random.randint(1,6),\n",
        "             'jogador2':random.randint(1,6),\n",
        "             'jogador3':random.randint(1,6),\n",
        "             'Jogador4': random.randint(1,6)}\n",
        "for k, v in jogadores.items():\n",
        "  time.sleep(1.5)\n",
        "  print(f'O {k} tirou o valor {v} no dado')\n",
        "\n",
        "ordem = dict()\n",
        "colocação = sorted(jogadores.items(), key=itemgetter(1), reverse=True)\n",
        "for i, v in enumerate(colocação):\n",
        "  time.sleep(1.5)\n",
        "  print(f'O {i+1}° Colacado foi {v[0]} com {v[1]} ')\n",
        "#AQUI TEMOS UMA LISTA E DENTRO DA LISTA  3 TUPLAS.\n",
        "#NA LISTA HÁ 4 ELEMENTOS DO INDICE 0 AO 3, ONDE O i[0] É A TUPLA DO 1° COLOCADO, O i[1] É A TUPLA DO 2° E ASSIMM POR DIANTE\n",
        "#NAS TUPLAS TÊM EM CADA UMA 2 ELEMENTOS DO INDICE 0 AO 1\n",
        "#SENDO v[0] O JOGADOR E v[1] O VALOR QUE ELE TIROU\n",
        "print(colocação)"
      ],
      "metadata": {
        "colab": {
          "base_uri": "https://localhost:8080/"
        },
        "id": "1X-p8RjILDkX",
        "outputId": "7790436a-a8e2-43a4-bcba-a8f021fe947f"
      },
      "execution_count": null,
      "outputs": [
        {
          "output_type": "stream",
          "name": "stdout",
          "text": [
            "O Jogador1 tirou o valor 2 no dado\n",
            "O jogador2 tirou o valor 3 no dado\n",
            "O jogador3 tirou o valor 3 no dado\n",
            "O Jogador4 tirou o valor 2 no dado\n",
            "O 1° Colacado foi jogador2 com 3 \n",
            "O 2° Colacado foi jogador3 com 3 \n",
            "O 3° Colacado foi Jogador1 com 2 \n",
            "O 4° Colacado foi Jogador4 com 2 \n",
            "[('jogador2', 3), ('jogador3', 3), ('Jogador1', 2), ('Jogador4', 2)]\n"
          ]
        }
      ]
    },
    {
      "cell_type": "code",
      "source": [
        "import datetime\n",
        "data = datetime.date.today()\n",
        "ano = data.year\n",
        "dados = dict()\n",
        "dados['Nome'] = str(input('Nome:'))\n",
        "nasc = int(input('Ano de nascimento : '))\n",
        "dados['Idade'] = ano - nasc\n",
        "dados['CTPS'] = int(input('Carteira de trabalho(0 não tem:)'))\n",
        "if dados['CTPS'] != 0:\n",
        "  dados['Contratação'] = int(input('Ano de contratação: '))\n",
        "  dados['Salário'] = float(input('Salário : '))\n",
        "  dados['Aposentadoria'] = (dados['Contratação'] + 30) - nasc\n",
        "for k, v in dados.items():\n",
        "  print(f'- {k} tem o valo {v}')"
      ],
      "metadata": {
        "colab": {
          "base_uri": "https://localhost:8080/"
        },
        "id": "3zDVOJH2g9ZF",
        "outputId": "06cd52fa-d0bd-49d3-eb9f-674eb68e31e8"
      },
      "execution_count": null,
      "outputs": [
        {
          "output_type": "stream",
          "name": "stdout",
          "text": [
            "Nome:leandro\n",
            "Ano de nascimento : 1984\n",
            "Carteira de trabalho(0 não tem:)1111\n",
            "Ano de contratação: 2005\n",
            "Salário : 3000\n",
            "- Nome tem o valo leandro\n",
            "- Idade tem o valo 39\n",
            "- CTPS tem o valo 1111\n",
            "- Contratação tem o valo 2005\n",
            "- Salário tem o valo 3000.0\n",
            "- Aposentadoria tem o valo 51\n"
          ]
        }
      ]
    },
    {
      "cell_type": "code",
      "source": [
        "#DESAFIO 93\n",
        "#Crie um programa que gerencie o aproveitamento de um jogador de futebol.\n",
        "#O programa vai ler o nome do jogador e quantas partidas ele jogou. Depois vai ler a quantidade de gols feitos em cada partida.\n",
        "#No final, tudo isso será guardado em um dicionário, incluindo o total de gols feitos durante o campeonato.\n",
        "\n",
        "jogador = dict()\n",
        "gol = []\n",
        "jogador['Nome'] = str(input('Nome do jogador: '))\n",
        "print('Quantas partidas',jogador['Nome'],'jogou ?',end='')\n",
        "partidas = int(input(''))\n",
        "\n",
        "for i in range(0,partidas):\n",
        "  gol.append(int(input(f'Quantos gols na {i} partida? ')))\n",
        "jogador['gols'] = gol\n",
        "jogador['total'] = sum(gol)\n",
        "print('-='*30)\n",
        "print(jogador)\n",
        "print('-='*30)\n",
        "\n",
        "for k, v in jogador.items():\n",
        "  print(f'O campo {k} tem o valor {v}')\n",
        "print('-='*30)\n",
        "print('O jogador ', jogador['Nome'], 'jogou', (partidas), 'partidas.')\n",
        "\n",
        "for k, v in enumerate(gol):\n",
        "  print(f'=> Na partida {k}, fez {v} gols')\n",
        "print('Foi um total de ', jogador['total'], 'gols')"
      ],
      "metadata": {
        "id": "6sWDwVXmuDtv",
        "colab": {
          "base_uri": "https://localhost:8080/"
        },
        "outputId": "b89997f6-9be0-4b8b-ecff-5e3fe1c7c162"
      },
      "execution_count": null,
      "outputs": [
        {
          "output_type": "stream",
          "name": "stdout",
          "text": [
            "Nome do jogador: Zico\n",
            "Quantas partidas Zico jogou ?2\n",
            "Quantos gols na 0 partida? 1\n",
            "Quantos gols na 1 partida? 2\n",
            "-=-=-=-=-=-=-=-=-=-=-=-=-=-=-=-=-=-=-=-=-=-=-=-=-=-=-=-=-=-=\n",
            "{'Nome': 'Zico', 'gols': [1, 2], 'total': 3}\n",
            "-=-=-=-=-=-=-=-=-=-=-=-=-=-=-=-=-=-=-=-=-=-=-=-=-=-=-=-=-=-=\n",
            "O campo Nome tem o valor Zico\n",
            "O campo gols tem o valor [1, 2]\n",
            "O campo total tem o valor 3\n",
            "-=-=-=-=-=-=-=-=-=-=-=-=-=-=-=-=-=-=-=-=-=-=-=-=-=-=-=-=-=-=\n",
            "O jogador  Zico jogou 2 partidas.\n",
            "=> Na partida 0, fez 1 gols\n",
            "=> Na partida 1, fez 2 gols\n",
            "Foi um total de  3 gols\n"
          ]
        }
      ]
    },
    {
      "cell_type": "code",
      "source": [
        "#94\n",
        "#Crie um programa que leia nome, sexo e idade de várias pessoas,\n",
        "#guardando os dados de cada pessoa em um dicionário e todos os dicionários em uma lista.\n",
        "#No final, mostre:\n",
        "#A) Quantas pessoas foram cadastradas\n",
        "#B) A média de idade\n",
        "#C) Uma lista com as mulheres\n",
        "#D) Uma lista de pessoas com idade acima da média\n",
        "galera = []\n",
        "pessoa = dict()\n",
        "soma = média = 0\n",
        "while True:\n",
        "  pessoa.clear()\n",
        "  pessoa['nome'] = str(input('Nome: '))\n",
        "  while True:\n",
        "    pessoa['sexo'] = str(input('Sexo: [M/F]')).upper()[0]\n",
        "    if pessoa['sexo'] in 'MF':\n",
        "      break\n",
        "    print('ERRO! Por favor, digite apenas M ou F')\n",
        "  pessoa['idade'] = int(input('Idade : '))\n",
        "  soma+= pessoa['idade']\n",
        "  galera.append(pessoa.copy())\n",
        "  while True:\n",
        "    resp = str(input('Quer continuar ? [S/N]')).upper()[0]\n",
        "    if resp in 'SN':\n",
        "      break\n",
        "    print('ERRO! Responda S ou N.')\n",
        "  if resp == 'N':\n",
        "    break\n",
        "print('-='*30)\n",
        "print(f'Ao todo temos {len(galera)} pessoas cadastradas .')\n",
        "média = soma / len(galera)\n",
        "print(f'A média de idade é de {média:5.2f} anos.')\n",
        "print(f'As mulheres cadastradas foram:' , end=' ')\n",
        "for p in galera:\n",
        "  if p['sexo'] in 'Ff':\n",
        "    print(f' {p[\"nome\"]}  ' , end='')\n",
        "print()\n",
        "print('Lista das pessoas que estão acima da média: ')\n",
        "for p in galera:\n",
        "  if p['idade'] >= média:\n",
        "    print('  ', end='')\n",
        "    for k, v in p.items():\n",
        "      print(f'{k} = {v};' , end='')\n",
        "\n",
        "  print()\n",
        "print('<< encerrado>>')\n",
        "\n",
        "\n",
        "\n",
        "\n",
        "\n"
      ],
      "metadata": {
        "id": "KCE5j435TAZp",
        "colab": {
          "base_uri": "https://localhost:8080/"
        },
        "outputId": "40dbdd54-d020-4a9b-823b-599914c4d85a"
      },
      "execution_count": 6,
      "outputs": [
        {
          "output_type": "stream",
          "name": "stdout",
          "text": [
            "Nome: Leandro\n",
            "Sexo: [M/F]m\n",
            "Idade : 32\n",
            "Quer continuar ? [S/N]s\n",
            "Nome: Paula\n",
            "Sexo: [M/F]f\n",
            "Idade : 44\n",
            "Quer continuar ? [S/N]n\n",
            "-=-=-=-=-=-=-=-=-=-=-=-=-=-=-=-=-=-=-=-=-=-=-=-=-=-=-=-=-=-=\n",
            "Ao todo temos 2 pessoas cadastradas .\n",
            "A média de idade é de 38.00 anos.\n",
            "As mulheres cadastradas foram:  Paula  \n",
            "Lista das pessoas que estão acima da média: \n",
            "\n",
            "  nome = Paula;sexo = F;idade = 44;\n",
            "<< encerrado>>\n"
          ]
        }
      ]
    }
  ]
}