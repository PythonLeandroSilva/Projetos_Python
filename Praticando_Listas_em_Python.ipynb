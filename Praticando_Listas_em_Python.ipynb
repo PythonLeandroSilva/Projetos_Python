{
  "nbformat": 4,
  "nbformat_minor": 0,
  "metadata": {
    "colab": {
      "provenance": [],
      "mount_file_id": "13pz6OxDgSX7PqqSfWcLg6Xcvi7Wh6znP",
      "authorship_tag": "ABX9TyNGx2y3siqL4DjTT3vukJ/i",
      "include_colab_link": true
    },
    "kernelspec": {
      "name": "python3",
      "display_name": "Python 3"
    },
    "language_info": {
      "name": "python"
    }
  },
  "cells": [
    {
      "cell_type": "markdown",
      "metadata": {
        "id": "view-in-github",
        "colab_type": "text"
      },
      "source": [
        "<a href=\"https://colab.research.google.com/github/PythonLeandroSilva/Projetos_Python/blob/main/Praticando_Listas_em_Python.ipynb\" target=\"_parent\"><img src=\"https://colab.research.google.com/assets/colab-badge.svg\" alt=\"Open In Colab\"/></a>"
      ]
    },
    {
      "cell_type": "code",
      "execution_count": null,
      "metadata": {
        "colab": {
          "base_uri": "https://localhost:8080/"
        },
        "id": "Trsae3i90a75",
        "outputId": "9395415d-e786-43b9-ae6c-e04d5af9fdf4"
      },
      "outputs": [
        {
          "output_type": "stream",
          "name": "stdout",
          "text": [
            "Digite um valor: 1\n",
            "Valor adicionado!\n",
            "Deseja continuar? [S/N]s\n",
            "Digite um valor: 1\n",
            "Humm! Esse valor já existe e não pode ser adicionado!\n",
            "Deseja continuar? [S/N]s\n",
            "Digite um valor: 2\n",
            "Valor adicionado!\n",
            "Deseja continuar? [S/N]n\n",
            "Você digitou os valores [1, 2]\n"
          ]
        }
      ],
      "source": [
        "''                          '''Listas em Python'''\n",
        "\n",
        "# Crie um programa onde o usuário possa digitar vários valores numéricos e cadastre-os em uma lista.\n",
        "# Caso o número já exista lá dentro, ele não será adicionado.\n",
        "# No final, serão exibidos todos os valores únicos digitados, em ordem crescente.\n",
        "\n",
        "lista = []\n",
        "while True:\n",
        "  v = int(input('Digite um valor: '))\n",
        "  if v not in lista:\n",
        "    lista.append(v)\n",
        "    print('Valor adicionado!')\n",
        "  else:\n",
        "    print('Humm! Esse valor já existe e não pode ser adicionado!')\n",
        "  r = str(input('Deseja continuar? [S/N]')).strip().upper()[0]\n",
        "  if r in 'Nn':\n",
        "    break\n",
        "print(f'Você digitou os valores {lista}')\n"
      ]
    },
    {
      "cell_type": "code",
      "source": [
        "#Exercício Python : Crie um programa que vai ler vários números e colocar em uma lista. Depois disso, mostre:\n",
        "#A) Quantos números foram digitados.\n",
        "#B) A lista de valores, ordenada de forma decrescente.\n",
        "#C) Se o valor 5 foi digitado e está ou não na lista.\n",
        "lista = []\n",
        "while True:\n",
        "  valor = int(input('Digite um valor: '))\n",
        "  lista.append(valor)\n",
        "  resposta = str(input('Quer continuar? [S/N]')).strip().upper()[0]\n",
        "  if resposta in 'nN':\n",
        "    break\n",
        "lista.sort(reverse=True)\n",
        "print(f'Você digitou {len(lista)} elemesntos')\n",
        "print(f'Os valores em ordem decrescente são {lista}')\n",
        "if 5 in lista:\n",
        "  print('O valor 5 foi adicionado')\n",
        "else:\n",
        "  print('o Vlor 5 não foi adicionaso')\n",
        "\n"
      ],
      "metadata": {
        "colab": {
          "base_uri": "https://localhost:8080/"
        },
        "id": "tPdNyncw5XRE",
        "outputId": "5ca49a40-e890-41df-8a75-487c8d2b9fe7"
      },
      "execution_count": null,
      "outputs": [
        {
          "output_type": "stream",
          "name": "stdout",
          "text": [
            "Digite um valor: 1\n",
            "Quer continuar? [S/N]s\n",
            "Digite um valor: 2\n",
            "Quer continuar? [S/N]s\n",
            "Digite um valor: 3\n",
            "Quer continuar? [S/N]s\n",
            "Digite um valor: 4\n",
            "Quer continuar? [S/N]n\n",
            "Você digitou 4 elemesntos\n",
            "Os valores em ordem decrescente são [4, 3, 2, 1]\n",
            "o Vlor 5 não foi adicionaso\n"
          ]
        }
      ]
    },
    {
      "cell_type": "code",
      "source": [
        "#Crie um programa que vai ler vários números e colocar em uma lista.\n",
        "#Depois disso, crie duas listas extras que vão conter apenas os valores pares\n",
        "#e os valores ímpares digitados, respectivamente.\n",
        "# Ao final, mostre o conteúdo das três listas geradas.\n",
        "lista_geral = []\n",
        "lista_par = []\n",
        "lista_impar = []\n",
        "while True:\n",
        "  num = int(input('Digite um número : '))\n",
        "  lista_geral.append(num)\n",
        "  if num%2 == 0:\n",
        "    lista_par.append(num)\n",
        "  else:\n",
        "    lista_impar.append(num)\n",
        "  resposta = str(input('Quer continuar ? '))\n",
        "  if resposta in 'Nn':\n",
        "    break\n",
        "print(f'geral {lista_geral}')\n",
        "print(f'par {lista_par}')\n",
        "print(f'impar {lista_impar}')\n"
      ],
      "metadata": {
        "colab": {
          "base_uri": "https://localhost:8080/"
        },
        "id": "pBQYFWEaFzb0",
        "outputId": "5917f7aa-4ab1-47b2-af2f-a8c323a340ef"
      },
      "execution_count": null,
      "outputs": [
        {
          "output_type": "stream",
          "name": "stdout",
          "text": [
            "Digite um número : 1\n",
            "Quer continuar ? s\n",
            "Digite um número : 2\n",
            "Quer continuar ? s\n",
            "Digite um número : 3\n",
            "Quer continuar ? n\n",
            "geral [1, 2, 3]\n",
            "par [2]\n",
            "impar [1, 3]\n"
          ]
        }
      ]
    },
    {
      "cell_type": "code",
      "source": [
        "#Crei um programa para ser um gerador de senhas.\n",
        "#O usuário vai informar quantas letras, números e símbolos ele quer na senha.\n",
        "#Então, o programa vai usar isso para gerar uma senha aleatória e depois vai perguntar\n",
        "#ao usuário se ele ficou satisfeito com ela.\n",
        "#Se o usuário responder que não, o programa vai fazer tudo de novo.\n",
        "#E a senha deve ter no mínimo 8 caracteres.\n",
        "\n",
        "import random #IMPORTANDO A BILIOTECA RANDOM\n",
        "\n",
        "while True:\n",
        "    senha = []#LISTA PARA ARMAZENAR A SENHA\n",
        "\n",
        "    n = int(input('Quantos números você quer na sua senha ? '))\n",
        "    for i in range(0,n):\n",
        "      numero = ['0','1','2','3','4','5','6','7','8','9']#UMA LISTA COM OS NÚMEROS\n",
        "      senha.append(random.choice(numero))#ESCOLHENDO QUANTOS NÚMEROS E GUARDANDO EM SENHA = []\n",
        "\n",
        "    l = int(input('Quantos letras você quer na sua senha ? '))\n",
        "    for i in range(0,l):\n",
        "      letras = random.choice(string.ascii_letters)#UMA PARÂMETRO EM PYTHON PARA PEGAR TODO O ALFABETO EM MAIÚSCULAS E MINÚSCULAS\n",
        "      senha.append(random.choice(letras))#ESCOLHENDO QUANTOS LETRAS E GUARDANDO EM SENHA = []\n",
        "\n",
        "    s = int(input('Quantos simbolos você quer na sua senha ? '))\n",
        "    for i in range(0,s):\n",
        "      simbolo = random.choice(\"!@#$%^&*()_-+=[]{}|;:'\\\",.<>?/\\\\\")#UMA TUPLA COMS OS SÍMBOLOS\n",
        "\n",
        "      senha.append(random.choice(simbolo))#ESCOLHENDO QUANTOS SÍMBOLOS E GUARDANDO EM SENHA = []\n",
        "\n",
        "    if n+l+s != 8:# A SOMA DO TOTAL DE NÚMEROS + LETRAS + SÍMBOLOS TEM QUE SER 8, SE DIFERENTE O PROGRAMA ENCERRA.\n",
        "      print('A senha tem que ter 8 caractéres. Faça de novo!')\n",
        "      break\n",
        "\n",
        "    if n+l+s == 8:# SE IGUAL A 8\n",
        "      random.shuffle(senha)#EMBARLHA A LISTA DE SENHA (SENHA = [])\n",
        "      print (''.join(senha))# E MOSTRA A SENHA\n",
        "    r = str(input('Gostou dessa senha ? [S/N]')).strip().upper()[0]# SE SIM ENCERRA O PROGRAMA, SE NÃO COMEÇA TUDO DE NOVO\n",
        "\n",
        "    if r in 'Ss':\n",
        "        break\n"
      ],
      "metadata": {
        "colab": {
          "base_uri": "https://localhost:8080/"
        },
        "id": "m6xlDmPmOKz4",
        "outputId": "6bd0bbb0-8a21-42e5-9491-90225d78a0ea"
      },
      "execution_count": 18,
      "outputs": [
        {
          "name": "stdout",
          "output_type": "stream",
          "text": [
            "Quantos números você quer na sua senha ? 4\n",
            "Quantos letras você quer na sua senha ? 2\n",
            "Quantos simbolos você quer na sua senha ? 2\n",
            "3}95[Ox7\n",
            "Gostou dessa senha ? [S/N]n\n",
            "Quantos números você quer na sua senha ? 3\n",
            "Quantos letras você quer na sua senha ? 4\n",
            "Quantos simbolos você quer na sua senha ? 1\n",
            "gP2A[42N\n",
            "Gostou dessa senha ? [S/N]s\n"
          ]
        }
      ]
    }
  ]
}