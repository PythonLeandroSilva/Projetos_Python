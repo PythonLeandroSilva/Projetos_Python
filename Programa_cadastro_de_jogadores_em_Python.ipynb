{
  "nbformat": 4,
  "nbformat_minor": 0,
  "metadata": {
    "colab": {
      "provenance": [],
      "mount_file_id": "13pz6OxDgSX7PqqSfWcLg6Xcvi7Wh6znP",
      "authorship_tag": "ABX9TyOI4ixD7tbqigjrC4uZIaTQ",
      "include_colab_link": true
    },
    "kernelspec": {
      "name": "python3",
      "display_name": "Python 3"
    },
    "language_info": {
      "name": "python"
    }
  },
  "cells": [
    {
      "cell_type": "markdown",
      "metadata": {
        "id": "view-in-github",
        "colab_type": "text"
      },
      "source": [
        "<a href=\"https://colab.research.google.com/github/PythonLeandroSilva/Projetos_Python/blob/main/Programa_cadastro_de_jogadores_em_Python.ipynb\" target=\"_parent\"><img src=\"https://colab.research.google.com/assets/colab-badge.svg\" alt=\"Open In Colab\"/></a>"
      ]
    },
    {
      "cell_type": "code",
      "source": [
        "dados_jogadores = []\n",
        "\n",
        "while True:\n",
        "    jogadores = {}  #dicionário para cada jogador\n",
        "    jogadores['Nome'] = str(input('Nome do jogador: '))\n",
        "    jogadores['Partidas'] = int(input('Quantas partidas o jogador jogou ? '))\n",
        "\n",
        "    tot_gols = []  # lista de gols para cada jogador\n",
        "    for i in range(0, jogadores['Partidas']):\n",
        "        gols_por_partida = int(input(f'Quantos gols o jogador fez na partida {i+1} ? '))\n",
        "        tot_gols.append(gols_por_partida)\n",
        "\n",
        "    jogadores['Gols_Por_Partida'] = tot_gols  # Armazene a lista de gols por partida no dicionário\n",
        "    jogadores['Total_Gols'] = sum(tot_gols)  # Calcule o total de gols\n",
        "\n",
        "    dados_jogadores.append(jogadores.copy())#uma lista com a cópia dos dicionários de cada jogador\n",
        "\n",
        "    resp = str(input('Deseja continuar ? [S/N]')).upper()[0]\n",
        "    if resp in 'Nn':\n",
        "        break\n",
        "\n",
        "print('='*70)\n",
        "print(f'{\"Índice\":<7}{\"Nome\":<20}{\"Gols Por Partida\":<20}{\"Total Gols\":>20}')\n",
        "print('='*70)\n",
        "for indice, jogador in enumerate(dados_jogadores):\n",
        "    nome = jogador['Nome']\n",
        "    gols_por_partida = jogador['Gols_Por_Partida']\n",
        "    total_gols = jogador['Total_Gols']\n",
        "    formatted_line = f\"{indice:<7}{nome:<20}{gols_por_partida}{total_gols:>13}\"\n",
        "    print(formatted_line)\n",
        "\n",
        "while True:\n",
        "    print('='*70)\n",
        "    dados = int(input('Quer saber as informações de qual jogador ? Digite o N° do indice ou (999 para parar) '))\n",
        "    if dados == 999:\n",
        "        break\n",
        "    print('='*70)\n",
        "    jogos = dados_jogadores[dados]['Gols_Por_Partida']\n",
        "    print('Levantamento do Jogador: ')\n",
        "    print(dados_jogadores[dados]['Nome'])\n",
        "    for partida, gols in enumerate(jogos, start=1):\n",
        "        print(f'Na partida {partida} fez {gols} gols')\n"
      ],
      "metadata": {
        "colab": {
          "base_uri": "https://localhost:8080/"
        },
        "id": "gXuKRNv9SJNo",
        "outputId": "82fcbbc8-394b-49ce-b922-279aa5f9ff52"
      },
      "execution_count": 145,
      "outputs": [
        {
          "name": "stdout",
          "output_type": "stream",
          "text": [
            "Nome do jogador: Romário\n",
            "Quantas partidas o jogador jogou ? 3\n",
            "Quantos gols o jogador fez na partida 1 ? 1\n",
            "Quantos gols o jogador fez na partida 2 ? 0\n",
            "Quantos gols o jogador fez na partida 3 ? 3\n",
            "Deseja continuar ? [S/N]s\n",
            "Nome do jogador: Ronaldinho\n",
            "Quantas partidas o jogador jogou ? 4\n",
            "Quantos gols o jogador fez na partida 1 ? 1\n",
            "Quantos gols o jogador fez na partida 2 ? 2\n",
            "Quantos gols o jogador fez na partida 3 ? 3\n",
            "Quantos gols o jogador fez na partida 4 ? 0\n",
            "Deseja continuar ? [S/N]s\n",
            "Nome do jogador: Messi\n",
            "Quantas partidas o jogador jogou ? 3\n",
            "Quantos gols o jogador fez na partida 1 ? 1\n",
            "Quantos gols o jogador fez na partida 2 ? 0\n",
            "Quantos gols o jogador fez na partida 3 ? 3\n",
            "Deseja continuar ? [S/N]n\n",
            "======================================================================\n",
            "Índice Nome                Gols Por Partida              Total Gols\n",
            "======================================================================\n",
            "0      Romário             [1, 0, 3]            4\n",
            "1      Ronaldinho          [1, 2, 3, 0]            6\n",
            "2      Messi               [1, 0, 3]            4\n",
            "======================================================================\n",
            "Quer saber as informações de qual jogador ? Digite o N° do indice ou (999 para parar) 2\n",
            "======================================================================\n",
            "Levantamento do Jogador: \n",
            "Messi\n",
            "Na partida 1 fez 1 gols\n",
            "Na partida 2 fez 0 gols\n",
            "Na partida 3 fez 3 gols\n",
            "======================================================================\n",
            "Quer saber as informações de qual jogador ? Digite o N° do indice ou (999 para parar) 999\n"
          ]
        }
      ]
    }
  ]
}